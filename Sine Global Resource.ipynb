{
 "cells": [
  {
   "cell_type": "code",
   "execution_count": null,
   "metadata": {},
   "outputs": [],
   "source": [
    "import numpy as np\n",
    "import matplotlib as mpl\n",
    "import matplotlib.pyplot as plt\n",
    "import seaborn as sns"
   ]
  },
  {
   "cell_type": "code",
   "execution_count": null,
   "metadata": {},
   "outputs": [],
   "source": [
    "class ResourceFlow:\n",
    "    \n",
    "    def __init__(self, initial, inflow, outflow):\n",
    "        self._initial = initial\n",
    "        self._inflow = inflow\n",
    "        self._outflow = outflow\n",
    "        self._value = initial\n",
    "        \n",
    "    def __iter__(self):\n",
    "        return self\n",
    "    \n",
    "    def __next__(self):\n",
    "        retval = self._value\n",
    "        self._value = (self._value + self._inflow)*(1.0-self._outflow)\n",
    "        return retval\n",
    "    \n",
    "class SineFlow(ResourceFlow):\n",
    "    \n",
    "    def __init__(self, res, period, inflow):\n",
    "        self._res = res\n",
    "        self._period = period\n",
    "        self._inflow = inflow\n",
    "        \n",
    "    def flow(self):\n",
    "        vals = []\n",
    "        infls = []\n",
    "        for ndx, val in enumerate(self._res):\n",
    "            res._inflow = self._inflow * (np.cos(np.pi + ndx * (np.pi * 2.) / self._period) + 1)/2\n",
    "            infls.append(res._inflow)\n",
    "            vals.append(val)\n",
    "            if ndx == 2 * self._period:\n",
    "                break\n",
    "        return vals\n",
    "    \n",
    "class PeriodicFlow:\n",
    "    def __init__(self, res, period):\n",
    "        self._res = res\n",
    "        self._period = period\n",
    "    \n",
    "    def flow(self):\n",
    "        vals = []\n",
    "        half_period = np.floor(self._period/2)-1\n",
    "        for ndx, val in enumerate(self._res):\n",
    "            vals.append(val)\n",
    "            if ndx == half_period:\n",
    "                break\n",
    "        res._inflow = 0\n",
    "        for ndx, val in enumerate(self._res):\n",
    "            vals.append(val)\n",
    "            if ndx == half_period:\n",
    "                break\n",
    "        return vals"
   ]
  },
  {
   "cell_type": "code",
   "execution_count": null,
   "metadata": {},
   "outputs": [],
   "source": [
    "period = 100\n",
    "inflow = 1\n",
    "with sns.color_palette(\"Reds\"):\n",
    "    for outflow in np.arange(0.1,0.6,0.1):  #start, stop, step\n",
    "    #for outflow in np.arange(0.1,1.0,0.2):  #start, stop, step\n",
    "        res = ResourceFlow(0, 0, outflow)\n",
    "        #res = ResourceFlow(0, inflow, outflow)\n",
    "        pflow = SineFlow(res, period, inflow)\n",
    "        plt.plot(pflow.flow(), label=outflow)\n",
    "    plt.ylabel('Resource Abundance')\n",
    "    plt.xlabel('Time')\n",
    "    plt.legend(bbox_to_anchor=(1.05, 1), loc=2, borderaxespad=0., title='Outflow')\n",
    "    plt.title(f'Varying Outflow Rates Over Period of {period} Steps\\nwith Inflow of {inflow} multiplied by sine')"
   ]
  },
  {
   "cell_type": "code",
   "execution_count": null,
   "metadata": {},
   "outputs": [],
   "source": [
    "period = 100\n",
    "\n",
    "with sns.color_palette(\"Purples\"):\n",
    "    plt.subplots_adjust(hspace=2)\n",
    "    outflow = 0.1\n",
    "    for inflow in np.arange(0.1,1.1,0.2):\n",
    "        res = ResourceFlow(0, 0, outflow)\n",
    "        pflow = SineFlow(res, period, inflow)\n",
    "        plt.plot(pflow.flow(), label=inflow)\n",
    "    plt.ylabel('Resource Abundance')\n",
    "    plt.xlabel('Time')\n",
    "    plt.ylim([0,8])\n",
    "    plt.legend(bbox_to_anchor=(1.05, 1), loc=2, borderaxespad=0., title='Inflow')\n",
    "    plt.title(f'Varying Inflow Rates Over Period of {period} Steps with Outflow {outflow}\\nInflow modified by sine wave')"
   ]
  },
  {
   "cell_type": "code",
   "execution_count": null,
   "metadata": {},
   "outputs": [],
   "source": [
    "period = 60\n",
    "inflow = 1\n",
    "with sns.color_palette(\"Greens\"):\n",
    "    for outflow in np.arange(0.1,0.6,0.1):  #start, stop, step\n",
    "        res = ResourceFlow(0, inflow, outflow)\n",
    "        pflow = PeriodicFlow(res,period)\n",
    "        plt.plot(pflow.flow(), label=outflow)\n",
    "    plt.ylabel('Resource Abundance')\n",
    "    plt.xlabel('Time')\n",
    "    plt.legend(bbox_to_anchor=(1.05, 1), loc=2, borderaxespad=0., title='Outflow')\n",
    "    plt.title(f'Varying Outflow Rates Over Period of {period} Steps\\nwith Inflow of {inflow} until Zeroed at Half Period')"
   ]
  },
  {
   "cell_type": "code",
   "execution_count": null,
   "metadata": {},
   "outputs": [],
   "source": [
    "period = 60\n",
    "\n",
    "with sns.color_palette(\"Blues\"):\n",
    "    plt.subplots_adjust(hspace=2)\n",
    "    for ndx, outflow in enumerate([0.1,0.2]):\n",
    "        plt.subplot(2,1,ndx+1)\n",
    "        for inflow in np.arange(0.1,1.1,0.2):\n",
    "            res = ResourceFlow(0, inflow, outflow)\n",
    "            pflow = PeriodicFlow(res,period)\n",
    "            plt.plot(pflow.flow(), label=inflow)\n",
    "        plt.ylabel('Resource Abundance')\n",
    "        plt.xlabel('Time')\n",
    "        plt.ylim([0,8])\n",
    "        plt.legend(bbox_to_anchor=(1.05, 1), loc=2, borderaxespad=0., title='Inflow')\n",
    "        plt.title(f'Varying Inflow Rates Over Period of {period} Steps with Outflow {outflow}\\nInflow Zeros at Half Period')"
   ]
  },
  {
   "cell_type": "code",
   "execution_count": null,
   "metadata": {},
   "outputs": [],
   "source": []
  }
 ],
 "metadata": {
  "language_info": {
   "name": "python",
   "pygments_lexer": "ipython3"
  }
 },
 "nbformat": 4,
 "nbformat_minor": 2
}
