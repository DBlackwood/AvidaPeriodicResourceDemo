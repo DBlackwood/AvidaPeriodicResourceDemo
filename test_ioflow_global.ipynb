{
 "cells": [
  {
   "cell_type": "code",
   "execution_count": null,
   "metadata": {},
   "outputs": [],
   "source": [
    "import pandas as pd\n",
    "import matplotlib as mpl\n",
    "import matplotlib.pyplot as plt\n",
    "%matplotlib inline"
   ]
  },
  {
   "cell_type": "code",
   "execution_count": null,
   "metadata": {},
   "outputs": [],
   "source": [
    "root_path = 'test_ioflow_global'  #Really should have called it test_inflow_global\n",
    "res_data_path = f'{root_path}/data/resource.dat'\n",
    "\n",
    "data = pd.read_csv(res_data_path, \n",
    "                    comment='#', skip_blank_lines=True, delimiter = ' ', header=None)\n",
    "\n",
    "data.drop(data.columns[7], axis=1, inplace=True)\n",
    "\n",
    "colnames = [\n",
    "    'update'\n",
    "    ,'every80_out20'\n",
    "    ,'every80_out30'\n",
    "    ,'every80_out40'\n",
    "    ,'every50_out50'\n",
    "    ,'every100_out50'\n",
    "    ,'every200_out50'\n",
    "]\n",
    "data.columns = colnames\n",
    "\n",
    "# Pandas by default does not guess with mixed data types. We don't have mixed data types\n",
    "# here, but let us just force Pandas to infer the data types anyway\n",
    "# data.infer_objects()"
   ]
  },
  {
   "cell_type": "code",
   "execution_count": null,
   "metadata": {},
   "outputs": [],
   "source": [
    "#Actually plot the data\n",
    "plt.figure() # probably don't need this, but it will create a new figure object\n",
    "\n",
    "ud = range(0,2001) #Plot from 0 to 2000 updates\n",
    "lup = 200 # last update \n",
    "\n",
    "#For each resource column that we have\n",
    "#for res_name in first_plot:\n",
    "for ndx, res_name in enumerate(data.columns[1:3]):\n",
    "#Plot the abudnance over time; label gives the legend label\n",
    "    plt.plot(data['update'][0:lup+1], data[res_name][0:lup+1], label=res_name)\n",
    "    \n",
    "#Add the legend to the plot\n",
    "plt.legend(bbox_to_anchor=(1.05, 1), loc=2, borderaxespad=0.)\n",
    "\n",
    "plt.show()  #might not need; tell matplotlib to show the figure"
   ]
  },
  {
   "cell_type": "code",
   "execution_count": null,
   "metadata": {},
   "outputs": [],
   "source": []
  }
 ],
 "metadata": {
  "language_info": {
   "name": "python",
   "pygments_lexer": "ipython3"
  }
 },
 "nbformat": 4,
 "nbformat_minor": 2
}
