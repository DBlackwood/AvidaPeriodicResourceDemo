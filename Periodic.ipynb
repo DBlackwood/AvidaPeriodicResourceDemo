{
 "cells": [
  {
   "cell_type": "code",
   "execution_count": null,
   "metadata": {},
   "outputs": [],
   "source": [
    "from avidares.AvidaDataLoader import load_generic, load_spatial_resources\n",
    "from avidares.FactoredCategoricalHeatmapAnimation import FactoredCategoricalHeatmapAnimation as Heatmap\n",
    "from avidares.BlitArtists import BRectangle\n",
    "import numpy as np\n",
    "import matplotlib as mpl\n",
    "import matplotlib.pyplot as plt\n",
    "import seaborn as sns\n",
    "\n",
    "import pandas as pd\n",
    "from IPython.display import HTML\n",
    "\n",
    "%matplotlib inline"
   ]
  },
  {
   "cell_type": "code",
   "execution_count": null,
   "metadata": {},
   "outputs": [],
   "source": [
    "path = 'test_in_period/data/resource_counts.dat'\n",
    "data = load_generic(path, columns=['update', 'global', 'spat'], trailing_space=True)\n",
    "\n",
    "#Using with syntax here so we isolate seaborn's effects\n",
    "with sns.axes_style(\"darkgrid\"):\n",
    "    #plt.plot(data['update'], data['global'], label='global')\n",
    "    plt.plot(data['update'], data['spat'], label='spat')\n",
    "    plt.xlabel('Update')\n",
    "    plt.ylabel('Abundance')\n",
    "    plt.legend(bbox_to_anchor=(1.05, 1), loc=2, borderaxespad=0.)"
   ]
  },
  {
   "cell_type": "code",
   "execution_count": null,
   "metadata": {},
   "outputs": [],
   "source": [
    "path = 'test_in_period/data/spatial_resources.dat'\n",
    "data = load_spatial_resources(path)\n",
    "\n",
    "figkw = {\n",
    "    'title':'Periodic Spatial Resourcdes Test\\nCyan=Inflow Magenta=Outflow',\n",
    "    'post_plot':[\n",
    "        BRectangle((0,0),1,60,ec='cyan', fc='none'),\n",
    "        BRectangle((58,0),1,60,ec='magenta', fc='none', lw=3)\n",
    "    ]\n",
    "}\n",
    "                   \n",
    "anim = Heatmap(data, (60,60), **figkw)\n",
    "html = anim.animate().to_html5_video()\n",
    "plt.close()\n",
    "HTML(html)"
   ]
  },
  {
   "cell_type": "code",
   "execution_count": null,
   "metadata": {},
   "outputs": [],
   "source": []
  }
 ],
 "metadata": {
  "language_info": {
   "name": "python",
   "pygments_lexer": "ipython3"
  }
 },
 "nbformat": 4,
 "nbformat_minor": 2
}
