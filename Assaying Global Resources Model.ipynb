{
 "cells": [
  {
   "cell_type": "code",
   "execution_count": null,
   "metadata": {},
   "outputs": [],
   "source": [
    "import numpy as np\n",
    "import matplotlib as mpl\n",
    "import matplotlib.pyplot as plt\n",
    "import seaborn as sns"
   ]
  },
  {
   "cell_type": "code",
   "execution_count": null,
   "metadata": {},
   "outputs": [],
   "source": [
    "class ResourceFlow:\n",
    "    \n",
    "    def __init__(self, initial, inflow, outflow):\n",
    "        self._initial = initial\n",
    "        self._inflow = inflow\n",
    "        self._outflow = outflow\n",
    "        self._value = initial\n",
    "        \n",
    "    def __iter__(self):\n",
    "        return self\n",
    "    \n",
    "    def __next__(self):\n",
    "        retval = self._value\n",
    "        self._value = (self._value + self._inflow)*(1.0-self._outflow)\n",
    "        return retval\n",
    "\n",
    "class PeriodicFlow:\n",
    "    def __init__(self, res_flow, period):\n",
    "        #self._res = res\n",
    "        self._res = res_flow\n",
    "        self._period = period\n",
    "    \n",
    "    def flow(self):\n",
    "        vals = []\n",
    "        half_period = np.floor(self._period/2)-1\n",
    "        for ndx, val in enumerate(self._res):\n",
    "            vals.append(val)\n",
    "            if ndx == half_period:\n",
    "                break\n",
    "        res._inflow = 0\n",
    "        for ndx, val in enumerate(self._res):\n",
    "            vals.append(val)\n",
    "            if ndx == half_period:\n",
    "                break\n",
    "        return vals"
   ]
  },
  {
   "cell_type": "code",
   "execution_count": null,
   "metadata": {},
   "outputs": [],
   "source": [
    "period = 60\n",
    "inflow = 1\n",
    "with sns.color_palette(\"Greens\"):\n",
    "    for outflow in np.arange(0.1,0.6,0.1):\n",
    "        res = ResourceFlow(0, inflow, outflow)\n",
    "        pflow = PeriodicFlow(res, period)\n",
    "        plt.plot(pflow.flow(), label=outflow)\n",
    "    plt.ylabel('Resource Abundance')\n",
    "    plt.xlabel('Time')\n",
    "    plt.legend(bbox_to_anchor=(1.05, 1), loc=2, borderaxespad=0., title='Outflow')\n",
    "    plt.title(f'Varying Outflow Rates Over Period of {period} Steps\\nwith Inflow of {inflow} until Zeroed at Half Period')"
   ]
  },
  {
   "cell_type": "code",
   "execution_count": null,
   "metadata": {},
   "outputs": [],
   "source": [
    "period = 60\n",
    "\n",
    "with sns.color_palette(\"Blues\"):\n",
    "    plt.subplots_adjust(hspace=2)\n",
    "    for ndx, outflow in enumerate([0.1,0.2]):\n",
    "        plt.subplot(2,1,ndx+1)\n",
    "        for inflow in np.arange(0.1,1.1,0.2):\n",
    "            res = ResourceFlow(0, inflow, outflow)\n",
    "            pflow = PeriodicFlow(res,period)\n",
    "            plt.plot(pflow.flow(), label=inflow)\n",
    "        plt.ylabel('Resource Abundance')\n",
    "        plt.xlabel('Time')\n",
    "        plt.ylim([0,8])\n",
    "        plt.legend(bbox_to_anchor=(1.05, 1), loc=2, borderaxespad=0., title='Inflow')\n",
    "        plt.title(f'Varying Inflow Rates Over Period of {period} Steps with Outflow {outflow}\\nInflow Zeros at Half Period')"
   ]
  },
  {
   "cell_type": "code",
   "execution_count": null,
   "metadata": {},
   "outputs": [],
   "source": []
  }
 ],
 "metadata": {
  "language_info": {
   "name": "python",
   "pygments_lexer": "ipython3"
  }
 },
 "nbformat": 4,
 "nbformat_minor": 2
}
